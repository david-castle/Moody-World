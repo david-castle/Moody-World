{
 "cells": [
  {
   "cell_type": "code",
   "execution_count": null,
   "id": "cb3d3ac7",
   "metadata": {},
   "outputs": [],
   "source": [
    "import json\n",
    "import pandas as pd\n",
    "import tweepy"
   ]
  },
  {
   "cell_type": "code",
   "execution_count": null,
   "id": "a84c702f",
   "metadata": {},
   "outputs": [],
   "source": [
    "###Authenticate to Twitter\n",
    "# API keyws that yous saved earlier\n",
    "api_key = \"...\"\n",
    "api_secrets = \"...\"\n",
    "access_token = \"...\"\n",
    "access_secret = \"...\"\n",
    " \n",
    "# Authenticate to Twitter\n",
    "auth = tweepy.OAuthHandler(api_key,api_secrets)\n",
    "auth.set_access_token(access_token,access_secret)\n",
    " \n",
    "api = tweepy.API(auth)\n",
    " \n",
    "try:\n",
    "    api.verify_credentials()\n",
    "    print('Successful Authentication')\n",
    "except:\n",
    "    print('Failed authentication')"
   ]
  },
  {
   "cell_type": "code",
   "execution_count": null,
   "id": "a38cc62d",
   "metadata": {},
   "outputs": [],
   "source": [
    "queryTopic '\"Chris Pratt\" \"Chief\"' #sample string for eact matches \n",
    "#queryTopic '\"@TobyMaguire #spiderman since:2021-10-21 until:2021-10-29' #sample string for eact matches \n",
    "queryTopic '\"Chris Pratt\" \"Chief\"' #sample string for eact matches \n",
    "tweets = [tweet for tweet in tweepy.Cursor(api.search_tweets, q = queryTopic, lang='en',\n",
    "                                          result_type = 'mixed', \n",
    "                                          count = 100).items(1)]"
   ]
  },
  {
   "cell_type": "code",
   "execution_count": null,
   "id": "84fac2ba",
   "metadata": {},
   "outputs": [],
   "source": [
    "def jsonify_tweepy(tweepy_object):\n",
    "    # Write: Transform the tweepy's json object and transform into a dictionary\n",
    "    json_str = json.dumps(tweepy_object._json, indent =2)\n",
    "    # Read: Transform the json into a Python Dictionary\n",
    "    return json.loads(son_str)"
   ]
  },
  {
   "cell_type": "code",
   "execution_count": null,
   "id": "206263c7",
   "metadata": {},
   "outputs": [],
   "source": [
    "# Get the data\n",
    "print(jsonify_tweepy(tweets))"
   ]
  }
 ],
 "metadata": {
  "kernelspec": {
   "display_name": "Python 3 (ipykernel)",
   "language": "python",
   "name": "python3"
  },
  "language_info": {
   "codemirror_mode": {
    "name": "ipython",
    "version": 3
   },
   "file_extension": ".py",
   "mimetype": "text/x-python",
   "name": "python",
   "nbconvert_exporter": "python",
   "pygments_lexer": "ipython3",
   "version": "3.11.2"
  }
 },
 "nbformat": 4,
 "nbformat_minor": 5
}
